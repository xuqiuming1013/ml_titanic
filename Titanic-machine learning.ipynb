{
 "cells": [
  {
   "cell_type": "code",
   "execution_count": 5400,
   "id": "3f30de5c",
   "metadata": {},
   "outputs": [],
   "source": [
    "#Import Package\n",
    "\n",
    "import pandas as pd\n",
    "\n",
    "import seaborn as sns\n",
    "\n",
    "import matplotlib.pyplot as plt\n",
    "\n",
    "import numpy as np\n",
    "\n",
    "from sklearn import model_selection\n",
    "\n",
    "from sklearn.model_selection import KFold\n",
    "\n",
    "from sklearn import preprocessing\n",
    "\n",
    "from sklearn.ensemble import RandomForestRegressor\n",
    "\n",
    "from sklearn.ensemble import RandomForestClassifier\n",
    "\n",
    "from sklearn.linear_model import LinearRegression\n",
    "\n",
    "from sklearn.linear_model import LogisticRegression\n",
    "\n",
    "from sklearn.ensemble import GradientBoostingClassifier\n",
    "\n",
    "from sklearn.feature_selection import SelectKBest, f_classif"
   ]
  },
  {
   "cell_type": "code",
   "execution_count": 5401,
   "id": "f1d57017",
   "metadata": {},
   "outputs": [],
   "source": [
    "#Import datasets\n",
    "\n",
    "#Reading datasets train.csv using pandas \n",
    "train = pd.read_csv(\"E:/Titanic-data/train.csv\")\n",
    "\n",
    "#Reading datasets test.csv using pandas\n",
    "test = pd.read_csv(\"E:/Titanic-data/test.csv\")"
   ]
  },
  {
   "cell_type": "code",
   "execution_count": 5402,
   "id": "05a17e1a",
   "metadata": {},
   "outputs": [
    {
     "data": {
      "text/html": [
       "<div>\n",
       "<style scoped>\n",
       "    .dataframe tbody tr th:only-of-type {\n",
       "        vertical-align: middle;\n",
       "    }\n",
       "\n",
       "    .dataframe tbody tr th {\n",
       "        vertical-align: top;\n",
       "    }\n",
       "\n",
       "    .dataframe thead th {\n",
       "        text-align: right;\n",
       "    }\n",
       "</style>\n",
       "<table border=\"1\" class=\"dataframe\">\n",
       "  <thead>\n",
       "    <tr style=\"text-align: right;\">\n",
       "      <th></th>\n",
       "      <th>PassengerId</th>\n",
       "      <th>Survived</th>\n",
       "      <th>Pclass</th>\n",
       "      <th>Age</th>\n",
       "      <th>SibSp</th>\n",
       "      <th>Parch</th>\n",
       "      <th>Fare</th>\n",
       "    </tr>\n",
       "  </thead>\n",
       "  <tbody>\n",
       "    <tr>\n",
       "      <th>count</th>\n",
       "      <td>891.000000</td>\n",
       "      <td>891.000000</td>\n",
       "      <td>891.000000</td>\n",
       "      <td>714.000000</td>\n",
       "      <td>891.000000</td>\n",
       "      <td>891.000000</td>\n",
       "      <td>891.000000</td>\n",
       "    </tr>\n",
       "    <tr>\n",
       "      <th>mean</th>\n",
       "      <td>446.000000</td>\n",
       "      <td>0.383838</td>\n",
       "      <td>2.308642</td>\n",
       "      <td>29.699118</td>\n",
       "      <td>0.523008</td>\n",
       "      <td>0.381594</td>\n",
       "      <td>32.204208</td>\n",
       "    </tr>\n",
       "    <tr>\n",
       "      <th>std</th>\n",
       "      <td>257.353842</td>\n",
       "      <td>0.486592</td>\n",
       "      <td>0.836071</td>\n",
       "      <td>14.526497</td>\n",
       "      <td>1.102743</td>\n",
       "      <td>0.806057</td>\n",
       "      <td>49.693429</td>\n",
       "    </tr>\n",
       "    <tr>\n",
       "      <th>min</th>\n",
       "      <td>1.000000</td>\n",
       "      <td>0.000000</td>\n",
       "      <td>1.000000</td>\n",
       "      <td>0.420000</td>\n",
       "      <td>0.000000</td>\n",
       "      <td>0.000000</td>\n",
       "      <td>0.000000</td>\n",
       "    </tr>\n",
       "    <tr>\n",
       "      <th>25%</th>\n",
       "      <td>223.500000</td>\n",
       "      <td>0.000000</td>\n",
       "      <td>2.000000</td>\n",
       "      <td>20.125000</td>\n",
       "      <td>0.000000</td>\n",
       "      <td>0.000000</td>\n",
       "      <td>7.910400</td>\n",
       "    </tr>\n",
       "    <tr>\n",
       "      <th>50%</th>\n",
       "      <td>446.000000</td>\n",
       "      <td>0.000000</td>\n",
       "      <td>3.000000</td>\n",
       "      <td>28.000000</td>\n",
       "      <td>0.000000</td>\n",
       "      <td>0.000000</td>\n",
       "      <td>14.454200</td>\n",
       "    </tr>\n",
       "    <tr>\n",
       "      <th>75%</th>\n",
       "      <td>668.500000</td>\n",
       "      <td>1.000000</td>\n",
       "      <td>3.000000</td>\n",
       "      <td>38.000000</td>\n",
       "      <td>1.000000</td>\n",
       "      <td>0.000000</td>\n",
       "      <td>31.000000</td>\n",
       "    </tr>\n",
       "    <tr>\n",
       "      <th>max</th>\n",
       "      <td>891.000000</td>\n",
       "      <td>1.000000</td>\n",
       "      <td>3.000000</td>\n",
       "      <td>80.000000</td>\n",
       "      <td>8.000000</td>\n",
       "      <td>6.000000</td>\n",
       "      <td>512.329200</td>\n",
       "    </tr>\n",
       "  </tbody>\n",
       "</table>\n",
       "</div>"
      ],
      "text/plain": [
       "       PassengerId    Survived      Pclass         Age       SibSp  \\\n",
       "count   891.000000  891.000000  891.000000  714.000000  891.000000   \n",
       "mean    446.000000    0.383838    2.308642   29.699118    0.523008   \n",
       "std     257.353842    0.486592    0.836071   14.526497    1.102743   \n",
       "min       1.000000    0.000000    1.000000    0.420000    0.000000   \n",
       "25%     223.500000    0.000000    2.000000   20.125000    0.000000   \n",
       "50%     446.000000    0.000000    3.000000   28.000000    0.000000   \n",
       "75%     668.500000    1.000000    3.000000   38.000000    1.000000   \n",
       "max     891.000000    1.000000    3.000000   80.000000    8.000000   \n",
       "\n",
       "            Parch        Fare  \n",
       "count  891.000000  891.000000  \n",
       "mean     0.381594   32.204208  \n",
       "std      0.806057   49.693429  \n",
       "min      0.000000    0.000000  \n",
       "25%      0.000000    7.910400  \n",
       "50%      0.000000   14.454200  \n",
       "75%      0.000000   31.000000  \n",
       "max      6.000000  512.329200  "
      ]
     },
     "execution_count": 5402,
     "metadata": {},
     "output_type": "execute_result"
    }
   ],
   "source": [
    "#View training set numerical data statistics results\n",
    "train.describe()"
   ]
  },
  {
   "cell_type": "code",
   "execution_count": 5403,
   "id": "7725d776",
   "metadata": {},
   "outputs": [
    {
     "name": "stdout",
     "output_type": "stream",
     "text": [
      "<class 'pandas.core.frame.DataFrame'>\n",
      "RangeIndex: 891 entries, 0 to 890\n",
      "Data columns (total 12 columns):\n",
      " #   Column       Non-Null Count  Dtype  \n",
      "---  ------       --------------  -----  \n",
      " 0   PassengerId  891 non-null    int64  \n",
      " 1   Survived     891 non-null    int64  \n",
      " 2   Pclass       891 non-null    int64  \n",
      " 3   Name         891 non-null    object \n",
      " 4   Sex          891 non-null    object \n",
      " 5   Age          714 non-null    float64\n",
      " 6   SibSp        891 non-null    int64  \n",
      " 7   Parch        891 non-null    int64  \n",
      " 8   Ticket       891 non-null    object \n",
      " 9   Fare         891 non-null    float64\n",
      " 10  Cabin        204 non-null    object \n",
      " 11  Embarked     889 non-null    object \n",
      "dtypes: float64(2), int64(5), object(5)\n",
      "memory usage: 83.7+ KB\n"
     ]
    }
   ],
   "source": [
    "#View the missing training set data\n",
    "train.info()"
   ]
  },
  {
   "cell_type": "code",
   "execution_count": 5404,
   "id": "d3202084",
   "metadata": {},
   "outputs": [
    {
     "data": {
      "text/plain": [
       "0    549\n",
       "1    342\n",
       "Name: Survived, dtype: int64"
      ]
     },
     "execution_count": 5404,
     "metadata": {},
     "output_type": "execute_result"
    }
   ],
   "source": [
    "#Statistics of survived and not survived ratio\n",
    "train['Survived'].value_counts()"
   ]
  },
  {
   "cell_type": "code",
   "execution_count": 5405,
   "id": "fb78ca47",
   "metadata": {},
   "outputs": [
    {
     "name": "stdout",
     "output_type": "stream",
     "text": [
      "First class survival: 0.6296296296296297\n",
      "Second class survival: 0.47282608695652173\n",
      "Third class survival: 0.24236252545824846\n"
     ]
    },
    {
     "data": {
      "image/png": "[encoded data removed]",
      "text/plain": [
       "<Figure size 432x288 with 1 Axes>"
      ]
     },
     "metadata": {
      "needs_background": "light"
     },
     "output_type": "display_data"
    }
   ],
   "source": [
    "#See the impact of Pclass on survival \n",
    "sns.barplot(x=\"Pclass\",y=\"Survived\",data=train)\n",
    "print(\"First class survival:\", train[\"Survived\"][train[\"Pclass\"] == 1].value_counts(normalize=True)[1])\n",
    "print(\"Second class survival:\", train[\"Survived\"][train[\"Pclass\"] == 2].value_counts(normalize=True)[1])\n",
    "print(\"Third class survival:\", train[\"Survived\"][train[\"Pclass\"] == 3].value_counts(normalize=True)[1])"
   ]
  },
  {
   "cell_type": "code",
   "execution_count": 5406,
   "id": "c616e421",
   "metadata": {},
   "outputs": [
    {
     "name": "stdout",
     "output_type": "stream",
     "text": [
      "Male survival: 0.18890814558058924\n",
      "Female survival: 0.7420382165605095\n"
     ]
    },
    {
     "data": {
      "image/png": "[encoded data removed]",
      "text/plain": [
       "<Figure size 432x288 with 1 Axes>"
      ]
     },
     "metadata": {
      "needs_background": "light"
     },
     "output_type": "display_data"
    }
   ],
   "source": [
    "#See the impact of Sex on survival \n",
    "sns.barplot(x=\"Sex\",y=\"Survived\",data=train)\n",
    "print(\"Male survival:\", train[\"Survived\"][train[\"Sex\"] == \"male\"].value_counts(normalize=True)[1])\n",
    "print(\"Female survival:\", train[\"Survived\"][train[\"Sex\"] == \"female\"].value_counts(normalize=True)[1])"
   ]
  },
  {
   "cell_type": "code",
   "execution_count": 5407,
   "id": "95ca9bb4",
   "metadata": {},
   "outputs": [
    {
     "data": {
      "text/plain": [
       "Text(28.04088541666667, 0.5, 'Survived')"
      ]
     },
     "execution_count": 5407,
     "metadata": {},
     "output_type": "execute_result"
    },
    {
     "data": {
      "image/png": "[encoded data removed]",
      "text/plain": [
       "<Figure size 483.875x216 with 1 Axes>"
      ]
     },
     "metadata": {
      "needs_background": "light"
     },
     "output_type": "display_data"
    }
   ],
   "source": [
    "#See the impact of Age on survival \n",
    "facet = sns.FacetGrid(train,hue=\"Survived\",aspect=2)\n",
    "facet.map(sns.kdeplot,'Age',shade=True)\n",
    "facet.set(xlim=(0,train['Age'].max()))\n",
    "facet.add_legend()\n",
    "plt.xlabel('Age')\n",
    "plt.ylabel('Survived')"
   ]
  },
  {
   "cell_type": "code",
   "execution_count": 5408,
   "id": "ada3711e",
   "metadata": {},
   "outputs": [
    {
     "data": {
      "text/plain": [
       "<AxesSubplot:xlabel='SibSp', ylabel='Survived'>"
      ]
     },
     "execution_count": 5408,
     "metadata": {},
     "output_type": "execute_result"
    },
    {
     "data": {
      "image/png": "[encoded data removed]",
      "text/plain": [
       "<Figure size 432x288 with 1 Axes>"
      ]
     },
     "metadata": {
      "needs_background": "light"
     },
     "output_type": "display_data"
    }
   ],
   "source": [
    "#See the impact of SibSp on survival \n",
    "sns.barplot(x=\"SibSp\",y=\"Survived\",data=train)"
   ]
  },
  {
   "cell_type": "code",
   "execution_count": 5409,
   "id": "e4bec4ce",
   "metadata": {},
   "outputs": [
    {
     "data": {
      "text/plain": [
       "<AxesSubplot:xlabel='Parch', ylabel='Survived'>"
      ]
     },
     "execution_count": 5409,
     "metadata": {},
     "output_type": "execute_result"
    },
    {
     "data": {
      "image/png": "[encoded data removed]",
      "text/plain": [
       "<Figure size 432x288 with 1 Axes>"
      ]
     },
     "metadata": {
      "needs_background": "light"
     },
     "output_type": "display_data"
    }
   ],
   "source": [
    "#See the impact of Parch on survival  \n",
    "sns.barplot(x=\"Parch\",y=\"Survived\",data=train)"
   ]
  },
  {
   "cell_type": "code",
   "execution_count": 5410,
   "id": "ba76c3fc",
   "metadata": {},
   "outputs": [
    {
     "data": {
      "text/plain": [
       "<AxesSubplot:xlabel='FamilySize', ylabel='Survived'>"
      ]
     },
     "execution_count": 5410,
     "metadata": {},
     "output_type": "execute_result"
    },
    {
     "data": {
      "image/png": "[encoded data removed]",
      "text/plain": [
       "<Figure size 432x288 with 1 Axes>"
      ]
     },
     "metadata": {
      "needs_background": "light"
     },
     "output_type": "display_data"
    }
   ],
   "source": [
    "#See the impact of FamilySize on survival  \n",
    "train['FamilySize']=train['SibSp']+train['Parch']+1\n",
    "\n",
    "sns.barplot(x=\"FamilySize\",y=\"Survived\",data=train)"
   ]
  },
  {
   "cell_type": "code",
   "execution_count": 5411,
   "id": "4d17bc54",
   "metadata": {
    "scrolled": true
   },
   "outputs": [
    {
     "data": {
      "text/plain": [
       "Text(28.04088541666667, 0.5, 'Survived')"
      ]
     },
     "execution_count": 5411,
     "metadata": {},
     "output_type": "execute_result"
    },
    {
     "data": {
      "image/png": "[encoded data removed]",
      "text/plain": [
       "<Figure size 483.875x216 with 1 Axes>"
      ]
     },
     "metadata": {
      "needs_background": "light"
     },
     "output_type": "display_data"
    }
   ],
   "source": [
    "#See the impact of Fare on survival  \n",
    "facet = sns.FacetGrid(train,hue=\"Survived\",aspect=2)\n",
    "facet.map(sns.kdeplot,'Fare',shade=True)\n",
    "facet.set(xlim=(0,train['Fare'].max()))\n",
    "facet.add_legend()\n",
    "plt.xlabel('Fare')\n",
    "plt.ylabel('Survived')"
   ]
  },
  {
   "cell_type": "code",
   "execution_count": 5412,
   "id": "c6e261fd",
   "metadata": {},
   "outputs": [
    {
     "data": {
      "text/plain": [
       "<AxesSubplot:xlabel='Embarked', ylabel='count'>"
      ]
     },
     "execution_count": 5412,
     "metadata": {},
     "output_type": "execute_result"
    },
    {
     "data": {
      "image/png": "[encoded data removed]",
      "text/plain": [
       "<Figure size 432x288 with 1 Axes>"
      ]
     },
     "metadata": {
      "needs_background": "light"
     },
     "output_type": "display_data"
    }
   ],
   "source": [
    "#See the impact of Embarked on survival   \n",
    "sns.countplot(x='Embarked',hue='Survived',data=train)"
   ]
  },
  {
   "cell_type": "code",
   "execution_count": 5413,
   "id": "b29eeb38",
   "metadata": {},
   "outputs": [
    {
     "name": "stdout",
     "output_type": "stream",
     "text": [
      "Royalty survival: 0.75\n",
      "Master survival: 0.575\n",
      "Mrs survival: 0.7936507936507936\n",
      "Miss survival: 0.7027027027027027\n",
      "Mr survival: 0.15667311411992263\n",
      "Other survival: 0.2631578947368421\n"
     ]
    },
    {
     "data": {
      "image/png": "[encoded data removed]",
      "text/plain": [
       "<Figure size 432x288 with 1 Axes>"
      ]
     },
     "metadata": {
      "needs_background": "light"
     },
     "output_type": "display_data"
    }
   ],
   "source": [
    "#Feature selection\n",
    "#1--Process Name data\n",
    "train['Title'] = train['Name'].apply(lambda x:x.split(',')[1].split('.')[0].strip())\n",
    "#Royalty\n",
    "train['Title'].replace(['Don', 'Sir', 'the Countess', 'Lady'], 'Royalty', inplace=True)\n",
    "#Master\n",
    "train['Title'].replace(['Master'], 'Master', inplace=True)\n",
    "#MMrs\n",
    "train['Title'].replace(['Mme', 'Mrs'],'Mrs', inplace=True)\n",
    "#Miss\n",
    "train['Title'].replace(['Mlle', 'Miss', 'Ms'], 'Miss', inplace=True)\n",
    "#Mr\n",
    "train['Title'].replace(['Mr'], 'Mr', inplace=True)\n",
    "#Other\n",
    "train['Title'].replace(['Capt', 'Col', 'Major', 'Dr', 'Rev', 'Jonkheer'], 'Other', inplace=True)\n",
    "\n",
    "sns.barplot(x=\"Title\", y=\"Survived\", data=train)\n",
    "print(\"Royalty survival:\", train[\"Survived\"][train[\"Title\"] == \"Royalty\"].value_counts(normalize=True)[1])\n",
    "print(\"Master survival:\", train[\"Survived\"][train[\"Title\"] == \"Master\"].value_counts(normalize=True)[1])\n",
    "print(\"Mrs survival:\", train[\"Survived\"][train[\"Title\"] == \"Mrs\"].value_counts(normalize=True)[1])\n",
    "print(\"Miss survival:\", train[\"Survived\"][train[\"Title\"] == \"Miss\"].value_counts(normalize=True)[1])\n",
    "print(\"Mr survival:\", train[\"Survived\"][train[\"Title\"] == \"Mr\"].value_counts(normalize=True)[1])\n",
    "print(\"Other survival:\", train[\"Survived\"][train[\"Title\"] == \"Other\"].value_counts(normalize=True)[1])"
   ]
  },
  {
   "cell_type": "code",
   "execution_count": 5414,
   "id": "fd0eefb9",
   "metadata": {},
   "outputs": [
    {
     "data": {
      "text/plain": [
       "<AxesSubplot:xlabel='FamilyType', ylabel='Survived'>"
      ]
     },
     "execution_count": 5414,
     "metadata": {},
     "output_type": "execute_result"
    },
    {
     "data": {
      "image/png": "[encoded data removed]",
      "text/plain": [
       "<Figure size 432x288 with 1 Axes>"
      ]
     },
     "metadata": {
      "needs_background": "light"
     },
     "output_type": "display_data"
    }
   ],
   "source": [
    "#2--Process FamilySize data\n",
    "#Situation 1\n",
    "train.loc[train['FamilySize']<2,'FamilyType']=0\n",
    "#Situation 2\n",
    "train.loc[(train['FamilySize']>=2)&(train['FamilySize']<=4),'FamilyType']=1\n",
    "#Situation 3\n",
    "train.loc[(train['FamilySize']>4)&(train['FamilySize']<=7),'FamilyType']=2\n",
    "#Situation 4\n",
    "train.loc[train['FamilySize']>7,'FamilyType']=3\n",
    "train['FamilyType']=train['FamilyType'].astype(np.int32)\n",
    "\n",
    "sns.barplot(x=\"FamilyType\", y=\"Survived\", data=train)"
   ]
  },
  {
   "cell_type": "code",
   "execution_count": 5415,
   "id": "832a0e90",
   "metadata": {},
   "outputs": [
    {
     "data": {
      "text/plain": [
       "347082      7\n",
       "CA. 2343    7\n",
       "1601        7\n",
       "3101295     6\n",
       "CA 2144     6\n",
       "           ..\n",
       "9234        1\n",
       "19988       1\n",
       "2693        1\n",
       "PC 17612    1\n",
       "370376      1\n",
       "Name: Ticket, Length: 681, dtype: int64"
      ]
     },
     "execution_count": 5415,
     "metadata": {},
     "output_type": "execute_result"
    }
   ],
   "source": [
    "#3--Process Ticket data \n",
    "#Classification according to the number of passengers corresponding to ticket\n",
    "train['Ticket'].value_counts()"
   ]
  },
  {
   "cell_type": "code",
   "execution_count": 5416,
   "id": "55d7e7b3",
   "metadata": {},
   "outputs": [
    {
     "data": {
      "text/plain": [
       "<AxesSubplot:xlabel='TicketFamily', ylabel='Survived'>"
      ]
     },
     "execution_count": 5416,
     "metadata": {},
     "output_type": "execute_result"
    },
    {
     "data": {
      "image/png": "[encoded data removed]",
      "text/plain": [
       "<Figure size 432x288 with 1 Axes>"
      ]
     },
     "metadata": {
      "needs_background": "light"
     },
     "output_type": "display_data"
    }
   ],
   "source": [
    "TicketCount = dict(train['Ticket'].value_counts())\n",
    "train['TicketFamily'] = train['Ticket'].apply(lambda x:TicketCount[x])\n",
    "\n",
    "sns.barplot(x=\"TicketFamily\", y=\"Survived\", data=train)"
   ]
  },
  {
   "cell_type": "code",
   "execution_count": 5417,
   "id": "859dcc72",
   "metadata": {},
   "outputs": [
    {
     "data": {
      "text/plain": [
       "<AxesSubplot:xlabel='TicketType', ylabel='Survived'>"
      ]
     },
     "execution_count": 5417,
     "metadata": {},
     "output_type": "execute_result"
    },
    {
     "data": {
      "image/png": "[encoded data removed]",
      "text/plain": [
       "<Figure size 432x288 with 1 Axes>"
      ]
     },
     "metadata": {
      "needs_background": "light"
     },
     "output_type": "display_data"
    }
   ],
   "source": [
    "#Situation 1\n",
    "train.loc[train['TicketFamily']<2,'TicketType']=0\n",
    "#Situation 2\n",
    "train.loc[(train['TicketFamily']>=2)&(train['TicketFamily']<=4),'TicketType']=1\n",
    "#Situation 3\n",
    "train.loc[train['TicketFamily']>4,'TicketType']=2\n",
    "train['TicketType']=train['TicketType'].astype(np.int32)\n",
    "\n",
    "sns.barplot(x=\"TicketType\", y=\"Survived\", data=train)"
   ]
  },
  {
   "cell_type": "code",
   "execution_count": 5418,
   "id": "178c3519",
   "metadata": {},
   "outputs": [
    {
     "name": "stdout",
     "output_type": "stream",
     "text": [
      "<class 'pandas.core.frame.DataFrame'>\n",
      "RangeIndex: 891 entries, 0 to 890\n",
      "Data columns (total 17 columns):\n",
      " #   Column        Non-Null Count  Dtype  \n",
      "---  ------        --------------  -----  \n",
      " 0   PassengerId   891 non-null    int64  \n",
      " 1   Survived      891 non-null    int64  \n",
      " 2   Pclass        891 non-null    int64  \n",
      " 3   Name          891 non-null    object \n",
      " 4   Sex           891 non-null    object \n",
      " 5   Age           891 non-null    float64\n",
      " 6   SibSp         891 non-null    int64  \n",
      " 7   Parch         891 non-null    int64  \n",
      " 8   Ticket        891 non-null    object \n",
      " 9   Fare          891 non-null    float64\n",
      " 10  Cabin         204 non-null    object \n",
      " 11  Embarked      889 non-null    object \n",
      " 12  FamilySize    891 non-null    int64  \n",
      " 13  Title         891 non-null    object \n",
      " 14  FamilyType    891 non-null    int32  \n",
      " 15  TicketFamily  891 non-null    int64  \n",
      " 16  TicketType    891 non-null    int32  \n",
      "dtypes: float64(2), int32(2), int64(7), object(6)\n",
      "memory usage: 111.5+ KB\n"
     ]
    }
   ],
   "source": [
    "#Data completion\n",
    "#1--Age completion\n",
    "#Import Random forest regression tree to complete Age\n",
    "\n",
    "from sklearn.ensemble import RandomForestRegressor\n",
    "\n",
    "ages = train[['Age', 'Pclass','Sex','Title','Fare']]\n",
    "ages=pd.get_dummies(ages)\n",
    "\n",
    "known_ages = ages[ages.Age.notnull()].values\n",
    "unknown_ages = ages[ages.Age.isnull()].values\n",
    "y = known_ages[:, 0]\n",
    "X = known_ages[:, 1:]\n",
    "\n",
    "rfr = RandomForestRegressor(random_state=60, n_estimators=100, n_jobs=-1)\n",
    "\n",
    "rfr.fit(X, y)\n",
    "\n",
    "pre_ages = rfr.predict(unknown_ages[:, 1::])\n",
    "\n",
    "train.loc[ (train.Age.isnull()), 'Age' ] = pre_ages\n",
    "\n",
    "#View data default after Age completion\n",
    "train.info()"
   ]
  },
  {
   "cell_type": "code",
   "execution_count": 5419,
   "id": "56bef5ea",
   "metadata": {},
   "outputs": [
    {
     "name": "stdout",
     "output_type": "stream",
     "text": [
      "<class 'pandas.core.frame.DataFrame'>\n",
      "RangeIndex: 891 entries, 0 to 890\n",
      "Data columns (total 18 columns):\n",
      " #   Column        Non-Null Count  Dtype  \n",
      "---  ------        --------------  -----  \n",
      " 0   PassengerId   891 non-null    int64  \n",
      " 1   Survived      891 non-null    int64  \n",
      " 2   Pclass        891 non-null    int64  \n",
      " 3   Name          891 non-null    object \n",
      " 4   Sex           891 non-null    object \n",
      " 5   Age           891 non-null    float64\n",
      " 6   SibSp         891 non-null    int64  \n",
      " 7   Parch         891 non-null    int64  \n",
      " 8   Ticket        891 non-null    object \n",
      " 9   Fare          891 non-null    float64\n",
      " 10  Cabin         891 non-null    object \n",
      " 11  Embarked      889 non-null    object \n",
      " 12  FamilySize    891 non-null    int64  \n",
      " 13  Title         891 non-null    object \n",
      " 14  FamilyType    891 non-null    int32  \n",
      " 15  TicketFamily  891 non-null    int64  \n",
      " 16  TicketType    891 non-null    int32  \n",
      " 17  BoardNumber   891 non-null    object \n",
      "dtypes: float64(2), int32(2), int64(7), object(7)\n",
      "memory usage: 118.5+ KB\n"
     ]
    },
    {
     "data": {
      "image/png": "[encoded data removed]",
      "text/plain": [
       "<Figure size 432x288 with 1 Axes>"
      ]
     },
     "metadata": {
      "needs_background": "light"
     },
     "output_type": "display_data"
    }
   ],
   "source": [
    "#Data completion\n",
    "#2--Cabin completion\n",
    "train['Cabin'] = train['Cabin'].fillna('Unkown')\n",
    "train['BoardNumber']=train['Cabin'].str.get(0)\n",
    "sns.barplot(x=\"BoardNumber\", y=\"Survived\", data=train)\n",
    "\n",
    "#View data default after Cabin completion\n",
    "train.info()"
   ]
  },
  {
   "cell_type": "code",
   "execution_count": 5420,
   "id": "1c6aaf5c",
   "metadata": {},
   "outputs": [
    {
     "data": {
      "text/html": [
       "<div>\n",
       "<style scoped>\n",
       "    .dataframe tbody tr th:only-of-type {\n",
       "        vertical-align: middle;\n",
       "    }\n",
       "\n",
       "    .dataframe tbody tr th {\n",
       "        vertical-align: top;\n",
       "    }\n",
       "\n",
       "    .dataframe thead th {\n",
       "        text-align: right;\n",
       "    }\n",
       "</style>\n",
       "<table border=\"1\" class=\"dataframe\">\n",
       "  <thead>\n",
       "    <tr style=\"text-align: right;\">\n",
       "      <th></th>\n",
       "      <th>PassengerId</th>\n",
       "      <th>Survived</th>\n",
       "      <th>Pclass</th>\n",
       "      <th>Name</th>\n",
       "      <th>Sex</th>\n",
       "      <th>Age</th>\n",
       "      <th>SibSp</th>\n",
       "      <th>Parch</th>\n",
       "      <th>Ticket</th>\n",
       "      <th>Fare</th>\n",
       "      <th>Cabin</th>\n",
       "      <th>Embarked</th>\n",
       "      <th>FamilySize</th>\n",
       "      <th>Title</th>\n",
       "      <th>FamilyType</th>\n",
       "      <th>TicketFamily</th>\n",
       "      <th>TicketType</th>\n",
       "      <th>BoardNumber</th>\n",
       "    </tr>\n",
       "  </thead>\n",
       "  <tbody>\n",
       "    <tr>\n",
       "      <th>61</th>\n",
       "      <td>62</td>\n",
       "      <td>1</td>\n",
       "      <td>1</td>\n",
       "      <td>Icard, Miss. Amelie</td>\n",
       "      <td>female</td>\n",
       "      <td>38.0</td>\n",
       "      <td>0</td>\n",
       "      <td>0</td>\n",
       "      <td>113572</td>\n",
       "      <td>80.0</td>\n",
       "      <td>B28</td>\n",
       "      <td>NaN</td>\n",
       "      <td>1</td>\n",
       "      <td>Miss</td>\n",
       "      <td>0</td>\n",
       "      <td>2</td>\n",
       "      <td>1</td>\n",
       "      <td>B</td>\n",
       "    </tr>\n",
       "    <tr>\n",
       "      <th>829</th>\n",
       "      <td>830</td>\n",
       "      <td>1</td>\n",
       "      <td>1</td>\n",
       "      <td>Stone, Mrs. George Nelson (Martha Evelyn)</td>\n",
       "      <td>female</td>\n",
       "      <td>62.0</td>\n",
       "      <td>0</td>\n",
       "      <td>0</td>\n",
       "      <td>113572</td>\n",
       "      <td>80.0</td>\n",
       "      <td>B28</td>\n",
       "      <td>NaN</td>\n",
       "      <td>1</td>\n",
       "      <td>Mrs</td>\n",
       "      <td>0</td>\n",
       "      <td>2</td>\n",
       "      <td>1</td>\n",
       "      <td>B</td>\n",
       "    </tr>\n",
       "  </tbody>\n",
       "</table>\n",
       "</div>"
      ],
      "text/plain": [
       "     PassengerId  Survived  Pclass                                       Name  \\\n",
       "61            62         1       1                        Icard, Miss. Amelie   \n",
       "829          830         1       1  Stone, Mrs. George Nelson (Martha Evelyn)   \n",
       "\n",
       "        Sex   Age  SibSp  Parch  Ticket  Fare Cabin Embarked  FamilySize  \\\n",
       "61   female  38.0      0      0  113572  80.0   B28      NaN           1   \n",
       "829  female  62.0      0      0  113572  80.0   B28      NaN           1   \n",
       "\n",
       "    Title  FamilyType  TicketFamily  TicketType BoardNumber  \n",
       "61   Miss           0             2           1           B  \n",
       "829   Mrs           0             2           1           B  "
      ]
     },
     "execution_count": 5420,
     "metadata": {},
     "output_type": "execute_result"
    }
   ],
   "source": [
    "#Data completion\n",
    "#3--Embarked completion\n",
    "#View Embarked data\n",
    "train[train['Embarked'].isnull()]"
   ]
  },
  {
   "cell_type": "code",
   "execution_count": 5421,
   "id": "3d261065",
   "metadata": {},
   "outputs": [
    {
     "data": {
      "text/plain": [
       "Pclass  Embarked\n",
       "1       C           78.2667\n",
       "        Q           90.0000\n",
       "        S           52.0000\n",
       "2       C           24.0000\n",
       "        Q           12.3500\n",
       "        S           13.5000\n",
       "3       C            7.8958\n",
       "        Q            7.7500\n",
       "        S            8.0500\n",
       "Name: Fare, dtype: float64"
      ]
     },
     "execution_count": 5421,
     "metadata": {},
     "output_type": "execute_result"
    }
   ],
   "source": [
    "#train.groupby(by=[\"Pclass\",\"Embarked\"]).median()\n",
    "train.groupby(by=[\"Pclass\",\"Embarked\"]).Fare.median()"
   ]
  },
  {
   "cell_type": "code",
   "execution_count": 5422,
   "id": "af21cb33",
   "metadata": {},
   "outputs": [
    {
     "name": "stdout",
     "output_type": "stream",
     "text": [
      "<class 'pandas.core.frame.DataFrame'>\n",
      "RangeIndex: 891 entries, 0 to 890\n",
      "Data columns (total 18 columns):\n",
      " #   Column        Non-Null Count  Dtype  \n",
      "---  ------        --------------  -----  \n",
      " 0   PassengerId   891 non-null    int64  \n",
      " 1   Survived      891 non-null    int64  \n",
      " 2   Pclass        891 non-null    int64  \n",
      " 3   Name          891 non-null    object \n",
      " 4   Sex           891 non-null    object \n",
      " 5   Age           891 non-null    float64\n",
      " 6   SibSp         891 non-null    int64  \n",
      " 7   Parch         891 non-null    int64  \n",
      " 8   Ticket        891 non-null    object \n",
      " 9   Fare          891 non-null    float64\n",
      " 10  Cabin         891 non-null    object \n",
      " 11  Embarked      891 non-null    object \n",
      " 12  FamilySize    891 non-null    int64  \n",
      " 13  Title         891 non-null    object \n",
      " 14  FamilyType    891 non-null    int32  \n",
      " 15  TicketFamily  891 non-null    int64  \n",
      " 16  TicketType    891 non-null    int32  \n",
      " 17  BoardNumber   891 non-null    object \n",
      "dtypes: float64(2), int32(2), int64(7), object(7)\n",
      "memory usage: 118.5+ KB\n"
     ]
    }
   ],
   "source": [
    "#Data completion\n",
    "#3--Embarked completion\n",
    "train['Embarked'] = train['Embarked'].fillna('C')\n",
    "\n",
    "#View data default after Embarked completion\n",
    "train.info()"
   ]
  },
  {
   "cell_type": "code",
   "execution_count": 5423,
   "id": "8938de32",
   "metadata": {},
   "outputs": [
    {
     "name": "stdout",
     "output_type": "stream",
     "text": [
      "Mr          517\n",
      "Miss        182\n",
      "Mrs         125\n",
      "Master       40\n",
      "Dr            7\n",
      "Rev           6\n",
      "Mlle          2\n",
      "Major         2\n",
      "Col           2\n",
      "Countess      1\n",
      "Capt          1\n",
      "Ms            1\n",
      "Sir           1\n",
      "Lady          1\n",
      "Mme           1\n",
      "Don           1\n",
      "Jonkheer      1\n",
      "Name: Name, dtype: int64\n"
     ]
    }
   ],
   "source": [
    "#Data conversion\n",
    "#Mapping Name data to numeric data\n",
    "#re make the python language have all the regular expression functions\n",
    "import re\n",
    "def get_title(name):\n",
    "    #re.search Scans the entire string and returns the first successful match\n",
    "    title_search=re.search(' ([A-Za-z]+)\\.',name) \n",
    "    if title_search:\n",
    "        #View matches\n",
    "        return title_search.group(1) \n",
    "    return \"\"\n",
    " \n",
    "titles=train['Name'].apply(get_title)\n",
    "print(pd.value_counts(titles))"
   ]
  },
  {
   "cell_type": "code",
   "execution_count": 5424,
   "id": "9ed59089",
   "metadata": {},
   "outputs": [
    {
     "name": "stdout",
     "output_type": "stream",
     "text": [
      "5    524\n",
      "4    185\n",
      "3    126\n",
      "2     40\n",
      "6      6\n",
      "1      4\n",
      "7      4\n",
      "8      2\n",
      "Name: Name, dtype: int64\n"
     ]
    }
   ],
   "source": [
    "#Mapping Name data to numeric data\n",
    "title_mapping={'Don':1, 'Sir':1, 'Countess':1, 'Lady':1, \n",
    "               'Master':2,\n",
    "               'Mme':3, 'Mrs':3,\n",
    "               'Mlle':4, 'Miss':4, 'Ms':4,\n",
    "               'Mr':5,\n",
    "               'Capt':8, 'Col':7, 'Major':7,  'Dr':5,  'Rev':6,  'Jonkheer':8}\n",
    "for k,v in title_mapping.items():\n",
    "    titles[titles==k]=v\n",
    " \n",
    "print(pd.value_counts(titles))\n",
    "train['Titles']=titles"
   ]
  },
  {
   "cell_type": "code",
   "execution_count": 5425,
   "id": "e156324e",
   "metadata": {},
   "outputs": [
    {
     "data": {
      "text/plain": [
       "count     891\n",
       "unique      2\n",
       "top         0\n",
       "freq      577\n",
       "Name: Sex, dtype: int64"
      ]
     },
     "execution_count": 5425,
     "metadata": {},
     "output_type": "execute_result"
    }
   ],
   "source": [
    "#Data conversion\n",
    "#Mapping Sex data to numeric data\n",
    "train.loc[train['Sex']=='male','Sex']=0\n",
    "train.loc[train['Sex']=='female','Sex']=1\n",
    "train['Sex'].describe()"
   ]
  },
  {
   "cell_type": "code",
   "execution_count": 5426,
   "id": "e5043367",
   "metadata": {},
   "outputs": [
    {
     "data": {
      "text/plain": [
       "count     891\n",
       "unique      3\n",
       "top         0\n",
       "freq      644\n",
       "Name: Embarked, dtype: int64"
      ]
     },
     "execution_count": 5426,
     "metadata": {},
     "output_type": "execute_result"
    }
   ],
   "source": [
    "#Data conversion\n",
    "#Mapping Embarked data to numeric data\n",
    "train.loc[train['Embarked']=='S','Embarked']=0\n",
    "train.loc[train['Embarked']=='C','Embarked']=1\n",
    "train.loc[train['Embarked']=='Q','Embarked']=2\n",
    "train['Embarked'].describe()"
   ]
  },
  {
   "cell_type": "code",
   "execution_count": 5427,
   "id": "226eae39",
   "metadata": {},
   "outputs": [
    {
     "data": {
      "image/png": "[encoded data removed]",
      "text/plain": [
       "<Figure size 432x288 with 1 Axes>"
      ]
     },
     "metadata": {
      "needs_background": "light"
     },
     "output_type": "display_data"
    }
   ],
   "source": [
    "#Feature importance analysis\n",
    "train['Namelength']=train['Name'].apply(lambda x:len(x))\n",
    "\n",
    "predictors0=['Pclass','Sex','Age','SibSp','Parch','Fare','Embarked','Titles', 'Namelength','FamilySize']\n",
    "selector=SelectKBest(f_classif,k=5)\n",
    "selector.fit(train[predictors0],train['Survived'])\n",
    " \n",
    "scores=-np.log10(selector.pvalues_)\n",
    " \n",
    "plt.bar(range(len(predictors0)),scores)\n",
    "plt.xticks(range(len(predictors0)),predictors0,rotation='vertical')\n",
    "plt.show()"
   ]
  },
  {
   "cell_type": "code",
   "execution_count": 5428,
   "id": "3437fe70",
   "metadata": {},
   "outputs": [
    {
     "data": {
      "text/html": [
       "<div>\n",
       "<style scoped>\n",
       "    .dataframe tbody tr th:only-of-type {\n",
       "        vertical-align: middle;\n",
       "    }\n",
       "\n",
       "    .dataframe tbody tr th {\n",
       "        vertical-align: top;\n",
       "    }\n",
       "\n",
       "    .dataframe thead th {\n",
       "        text-align: right;\n",
       "    }\n",
       "</style>\n",
       "<table border=\"1\" class=\"dataframe\">\n",
       "  <thead>\n",
       "    <tr style=\"text-align: right;\">\n",
       "      <th></th>\n",
       "      <th>PassengerId</th>\n",
       "      <th>Survived</th>\n",
       "      <th>Pclass</th>\n",
       "      <th>Age</th>\n",
       "      <th>SibSp</th>\n",
       "      <th>Parch</th>\n",
       "      <th>Fare</th>\n",
       "    </tr>\n",
       "  </thead>\n",
       "  <tbody>\n",
       "    <tr>\n",
       "      <th>count</th>\n",
       "      <td>418.000000</td>\n",
       "      <td>418.000000</td>\n",
       "      <td>418.000000</td>\n",
       "      <td>332.000000</td>\n",
       "      <td>418.000000</td>\n",
       "      <td>418.000000</td>\n",
       "      <td>417.000000</td>\n",
       "    </tr>\n",
       "    <tr>\n",
       "      <th>mean</th>\n",
       "      <td>1100.500000</td>\n",
       "      <td>0.377990</td>\n",
       "      <td>2.265550</td>\n",
       "      <td>30.272590</td>\n",
       "      <td>0.447368</td>\n",
       "      <td>0.392344</td>\n",
       "      <td>35.627188</td>\n",
       "    </tr>\n",
       "    <tr>\n",
       "      <th>std</th>\n",
       "      <td>120.810458</td>\n",
       "      <td>0.485466</td>\n",
       "      <td>0.841838</td>\n",
       "      <td>14.181209</td>\n",
       "      <td>0.896760</td>\n",
       "      <td>0.981429</td>\n",
       "      <td>55.907576</td>\n",
       "    </tr>\n",
       "    <tr>\n",
       "      <th>min</th>\n",
       "      <td>892.000000</td>\n",
       "      <td>0.000000</td>\n",
       "      <td>1.000000</td>\n",
       "      <td>0.170000</td>\n",
       "      <td>0.000000</td>\n",
       "      <td>0.000000</td>\n",
       "      <td>0.000000</td>\n",
       "    </tr>\n",
       "    <tr>\n",
       "      <th>25%</th>\n",
       "      <td>996.250000</td>\n",
       "      <td>0.000000</td>\n",
       "      <td>1.000000</td>\n",
       "      <td>21.000000</td>\n",
       "      <td>0.000000</td>\n",
       "      <td>0.000000</td>\n",
       "      <td>7.895800</td>\n",
       "    </tr>\n",
       "    <tr>\n",
       "      <th>50%</th>\n",
       "      <td>1100.500000</td>\n",
       "      <td>0.000000</td>\n",
       "      <td>3.000000</td>\n",
       "      <td>27.000000</td>\n",
       "      <td>0.000000</td>\n",
       "      <td>0.000000</td>\n",
       "      <td>14.454200</td>\n",
       "    </tr>\n",
       "    <tr>\n",
       "      <th>75%</th>\n",
       "      <td>1204.750000</td>\n",
       "      <td>1.000000</td>\n",
       "      <td>3.000000</td>\n",
       "      <td>39.000000</td>\n",
       "      <td>1.000000</td>\n",
       "      <td>0.000000</td>\n",
       "      <td>31.500000</td>\n",
       "    </tr>\n",
       "    <tr>\n",
       "      <th>max</th>\n",
       "      <td>1309.000000</td>\n",
       "      <td>1.000000</td>\n",
       "      <td>3.000000</td>\n",
       "      <td>76.000000</td>\n",
       "      <td>8.000000</td>\n",
       "      <td>9.000000</td>\n",
       "      <td>512.329200</td>\n",
       "    </tr>\n",
       "  </tbody>\n",
       "</table>\n",
       "</div>"
      ],
      "text/plain": [
       "       PassengerId    Survived      Pclass         Age       SibSp  \\\n",
       "count   418.000000  418.000000  418.000000  332.000000  418.000000   \n",
       "mean   1100.500000    0.377990    2.265550   30.272590    0.447368   \n",
       "std     120.810458    0.485466    0.841838   14.181209    0.896760   \n",
       "min     892.000000    0.000000    1.000000    0.170000    0.000000   \n",
       "25%     996.250000    0.000000    1.000000   21.000000    0.000000   \n",
       "50%    1100.500000    0.000000    3.000000   27.000000    0.000000   \n",
       "75%    1204.750000    1.000000    3.000000   39.000000    1.000000   \n",
       "max    1309.000000    1.000000    3.000000   76.000000    8.000000   \n",
       "\n",
       "            Parch        Fare  \n",
       "count  418.000000  417.000000  \n",
       "mean     0.392344   35.627188  \n",
       "std      0.981429   55.907576  \n",
       "min      0.000000    0.000000  \n",
       "25%      0.000000    7.895800  \n",
       "50%      0.000000   14.454200  \n",
       "75%      0.000000   31.500000  \n",
       "max      9.000000  512.329200  "
      ]
     },
     "execution_count": 5428,
     "metadata": {},
     "output_type": "execute_result"
    }
   ],
   "source": [
    "#Processing test sets\n",
    "#View test set numerical data statistics results\n",
    "test.describe()"
   ]
  },
  {
   "cell_type": "code",
   "execution_count": 5429,
   "id": "e9ddff5b",
   "metadata": {},
   "outputs": [
    {
     "name": "stdout",
     "output_type": "stream",
     "text": [
      "<class 'pandas.core.frame.DataFrame'>\n",
      "RangeIndex: 418 entries, 0 to 417\n",
      "Data columns (total 12 columns):\n",
      " #   Column       Non-Null Count  Dtype  \n",
      "---  ------       --------------  -----  \n",
      " 0   PassengerId  418 non-null    int64  \n",
      " 1   Survived     418 non-null    int64  \n",
      " 2   Pclass       418 non-null    int64  \n",
      " 3   Name         418 non-null    object \n",
      " 4   Sex          418 non-null    object \n",
      " 5   Age          332 non-null    float64\n",
      " 6   SibSp        418 non-null    int64  \n",
      " 7   Parch        418 non-null    int64  \n",
      " 8   Ticket       418 non-null    object \n",
      " 9   Fare         417 non-null    float64\n",
      " 10  Cabin        91 non-null     object \n",
      " 11  Embarked     418 non-null    object \n",
      "dtypes: float64(2), int64(5), object(5)\n",
      "memory usage: 39.3+ KB\n"
     ]
    }
   ],
   "source": [
    "#Check the missing data of the test set before processing\n",
    "#There are three default properties 1 Age 2. Fare 3. Cabin\n",
    "test.info()"
   ]
  },
  {
   "cell_type": "code",
   "execution_count": 5430,
   "id": "f4bc416a",
   "metadata": {},
   "outputs": [],
   "source": [
    "#Process Name data\n",
    "test['Title'] = test['Name'].apply(lambda x:x.split(',')[1].split('.')[0].strip())\n",
    "#Royalty\n",
    "train['Title'].replace(['Don', 'Sir', 'the Countess', 'Lady'], 'Royalty', inplace=True)\n",
    "#Master\n",
    "test['Title'].replace(['Master'], 'Master', inplace=True)\n",
    "#MMrs\n",
    "test['Title'].replace(['Mme', 'Mrs'],'Mrs', inplace=True)\n",
    "#Miss\n",
    "test['Title'].replace(['Mlle', 'Miss', 'Ms'], 'Miss', inplace=True)\n",
    "#Mr\n",
    "test['Title'].replace(['Mr'], 'Mr', inplace=True)\n",
    "#其他\n",
    "test['Title'].replace(['Capt', 'Col', 'Major', 'Dr', 'Rev', 'Jonkheer'], 'Other', inplace=True)"
   ]
  },
  {
   "cell_type": "code",
   "execution_count": 5431,
   "id": "d71341a2",
   "metadata": {},
   "outputs": [
    {
     "data": {
      "text/html": [
       "<div>\n",
       "<style scoped>\n",
       "    .dataframe tbody tr th:only-of-type {\n",
       "        vertical-align: middle;\n",
       "    }\n",
       "\n",
       "    .dataframe tbody tr th {\n",
       "        vertical-align: top;\n",
       "    }\n",
       "\n",
       "    .dataframe thead th {\n",
       "        text-align: right;\n",
       "    }\n",
       "</style>\n",
       "<table border=\"1\" class=\"dataframe\">\n",
       "  <thead>\n",
       "    <tr style=\"text-align: right;\">\n",
       "      <th></th>\n",
       "      <th>PassengerId</th>\n",
       "      <th>Survived</th>\n",
       "      <th>Pclass</th>\n",
       "      <th>Name</th>\n",
       "      <th>Sex</th>\n",
       "      <th>Age</th>\n",
       "      <th>SibSp</th>\n",
       "      <th>Parch</th>\n",
       "      <th>Ticket</th>\n",
       "      <th>Fare</th>\n",
       "      <th>Cabin</th>\n",
       "      <th>Embarked</th>\n",
       "      <th>Title</th>\n",
       "    </tr>\n",
       "  </thead>\n",
       "  <tbody>\n",
       "    <tr>\n",
       "      <th>152</th>\n",
       "      <td>1044</td>\n",
       "      <td>0</td>\n",
       "      <td>3</td>\n",
       "      <td>Storey, Mr. Thomas</td>\n",
       "      <td>male</td>\n",
       "      <td>60.5</td>\n",
       "      <td>0</td>\n",
       "      <td>0</td>\n",
       "      <td>3701</td>\n",
       "      <td>NaN</td>\n",
       "      <td>NaN</td>\n",
       "      <td>S</td>\n",
       "      <td>Mr</td>\n",
       "    </tr>\n",
       "  </tbody>\n",
       "</table>\n",
       "</div>"
      ],
      "text/plain": [
       "     PassengerId  Survived  Pclass                Name   Sex   Age  SibSp  \\\n",
       "152         1044         0       3  Storey, Mr. Thomas  male  60.5      0   \n",
       "\n",
       "     Parch Ticket  Fare Cabin Embarked Title  \n",
       "152      0   3701   NaN   NaN        S    Mr  "
      ]
     },
     "execution_count": 5431,
     "metadata": {},
     "output_type": "execute_result"
    }
   ],
   "source": [
    "#Complete Fare\n",
    "#View Fare data\n",
    "test[test['Fare'].isnull()]"
   ]
  },
  {
   "cell_type": "code",
   "execution_count": 5432,
   "id": "a9442b9a",
   "metadata": {},
   "outputs": [
    {
     "data": {
      "text/plain": [
       "Pclass  Embarked\n",
       "1       C           75.24585\n",
       "        Q           90.00000\n",
       "        S           51.67085\n",
       "2       C           15.04580\n",
       "        Q           11.52915\n",
       "        S           21.00000\n",
       "3       C            7.22920\n",
       "        Q            7.75000\n",
       "        S            8.05000\n",
       "Name: Fare, dtype: float64"
      ]
     },
     "execution_count": 5432,
     "metadata": {},
     "output_type": "execute_result"
    }
   ],
   "source": [
    "#Query the median of fare data according to pclass and embarkedc\n",
    "test.groupby(by=[\"Pclass\",\"Embarked\"]).Fare.median()"
   ]
  },
  {
   "cell_type": "code",
   "execution_count": 5433,
   "id": "e0051a00",
   "metadata": {},
   "outputs": [
    {
     "name": "stdout",
     "output_type": "stream",
     "text": [
      "<class 'pandas.core.frame.DataFrame'>\n",
      "RangeIndex: 418 entries, 0 to 417\n",
      "Data columns (total 13 columns):\n",
      " #   Column       Non-Null Count  Dtype  \n",
      "---  ------       --------------  -----  \n",
      " 0   PassengerId  418 non-null    int64  \n",
      " 1   Survived     418 non-null    int64  \n",
      " 2   Pclass       418 non-null    int64  \n",
      " 3   Name         418 non-null    object \n",
      " 4   Sex          418 non-null    object \n",
      " 5   Age          332 non-null    float64\n",
      " 6   SibSp        418 non-null    int64  \n",
      " 7   Parch        418 non-null    int64  \n",
      " 8   Ticket       418 non-null    object \n",
      " 9   Fare         418 non-null    float64\n",
      " 10  Cabin        91 non-null     object \n",
      " 11  Embarked     418 non-null    object \n",
      " 12  Title        418 non-null    object \n",
      "dtypes: float64(2), int64(5), object(6)\n",
      "memory usage: 42.6+ KB\n"
     ]
    }
   ],
   "source": [
    "#Complete Fare data\n",
    "test['Fare'] = test['Fare'].fillna(8.05000)\n",
    "\n",
    "#View the default data after Fare completion\n",
    "test.info()"
   ]
  },
  {
   "cell_type": "code",
   "execution_count": 5434,
   "id": "bc97a735",
   "metadata": {},
   "outputs": [
    {
     "name": "stdout",
     "output_type": "stream",
     "text": [
      "<class 'pandas.core.frame.DataFrame'>\n",
      "RangeIndex: 418 entries, 0 to 417\n",
      "Data columns (total 13 columns):\n",
      " #   Column       Non-Null Count  Dtype  \n",
      "---  ------       --------------  -----  \n",
      " 0   PassengerId  418 non-null    int64  \n",
      " 1   Survived     418 non-null    int64  \n",
      " 2   Pclass       418 non-null    int64  \n",
      " 3   Name         418 non-null    object \n",
      " 4   Sex          418 non-null    object \n",
      " 5   Age          418 non-null    float64\n",
      " 6   SibSp        418 non-null    int64  \n",
      " 7   Parch        418 non-null    int64  \n",
      " 8   Ticket       418 non-null    object \n",
      " 9   Fare         418 non-null    float64\n",
      " 10  Cabin        91 non-null     object \n",
      " 11  Embarked     418 non-null    object \n",
      " 12  Title        418 non-null    object \n",
      "dtypes: float64(2), int64(5), object(6)\n",
      "memory usage: 42.6+ KB\n"
     ]
    }
   ],
   "source": [
    "#Age completion\n",
    "ages = test[['Age', 'Pclass','Sex','Title','Fare']]#Need to complete fare first\n",
    "ages=pd.get_dummies(ages)\n",
    "\n",
    "known_ages = ages[ages.Age.notnull()].values\n",
    "unknown_ages = ages[ages.Age.isnull()].values\n",
    "y = known_ages[:, 0]\n",
    "X = known_ages[:, 1:]\n",
    "\n",
    "rfr = RandomForestRegressor(random_state=60, n_estimators=100, n_jobs=-1)\n",
    "\n",
    "rfr.fit(X, y)\n",
    "\n",
    "\n",
    "pre_ages = rfr.predict(unknown_ages[:, 1::])\n",
    "\n",
    "test.loc[ (test.Age.isnull()), 'Age' ] = pre_ages\n",
    "\n",
    "#View data default after Age completion\n",
    "test.info()"
   ]
  },
  {
   "cell_type": "code",
   "execution_count": 5435,
   "id": "61da37ec",
   "metadata": {},
   "outputs": [
    {
     "name": "stdout",
     "output_type": "stream",
     "text": [
      "<class 'pandas.core.frame.DataFrame'>\n",
      "RangeIndex: 418 entries, 0 to 417\n",
      "Data columns (total 14 columns):\n",
      " #   Column       Non-Null Count  Dtype  \n",
      "---  ------       --------------  -----  \n",
      " 0   PassengerId  418 non-null    int64  \n",
      " 1   Survived     418 non-null    int64  \n",
      " 2   Pclass       418 non-null    int64  \n",
      " 3   Name         418 non-null    object \n",
      " 4   Sex          418 non-null    object \n",
      " 5   Age          418 non-null    float64\n",
      " 6   SibSp        418 non-null    int64  \n",
      " 7   Parch        418 non-null    int64  \n",
      " 8   Ticket       418 non-null    object \n",
      " 9   Fare         418 non-null    float64\n",
      " 10  Cabin        418 non-null    object \n",
      " 11  Embarked     418 non-null    object \n",
      " 12  Title        418 non-null    object \n",
      " 13  BoardNumber  418 non-null    object \n",
      "dtypes: float64(2), int64(5), object(7)\n",
      "memory usage: 45.8+ KB\n"
     ]
    },
    {
     "data": {
      "image/png": "[encoded data removed]",
      "text/plain": [
       "<Figure size 432x288 with 1 Axes>"
      ]
     },
     "metadata": {
      "needs_background": "light"
     },
     "output_type": "display_data"
    }
   ],
   "source": [
    "#Cabin completion\n",
    "test['Cabin'] = test['Cabin'].fillna('Unkown')\n",
    "test['BoardNumber']=test['Cabin'].str.get(0)\n",
    "sns.barplot(x=\"BoardNumber\", y=\"Survived\", data=test)\n",
    "\n",
    "#View data default after Cabin completion\n",
    "test.info()"
   ]
  },
  {
   "cell_type": "code",
   "execution_count": 5436,
   "id": "485aaf9d",
   "metadata": {},
   "outputs": [],
   "source": [
    "#Test set exception data processing\n",
    "#1. Divide passengers with the same surname into a group of families\n",
    "test['Surname']=test['Name'].apply(lambda x:x.split(',')[0].strip())\n",
    "Surname_Count = dict(test['Surname'].value_counts())\n",
    "test['FamilyByGroup'] = test['Surname'].apply(lambda x:Surname_Count[x])\n",
    "#Group 1: children and women younger than 12\n",
    "Female_Child_Group=test.loc[(test['FamilyByGroup']>=2) & ((test['Age']<=12) | (test['Sex']=='female'))]\n",
    "#Group 2: men older than 12\n",
    "Male_Adult_Group=test.loc[(test['FamilyByGroup']>=2) & (test['Age']>12) & (test['Sex']=='male')]"
   ]
  },
  {
   "cell_type": "code",
   "execution_count": 5437,
   "id": "fdbd94e7",
   "metadata": {},
   "outputs": [
    {
     "data": {
      "text/plain": [
       "Text(0.5, 0, 'GroupOneAverageSurvived')"
      ]
     },
     "execution_count": 5437,
     "metadata": {},
     "output_type": "execute_result"
    },
    {
     "data": {
      "image/png": "[encoded data removed]",
      "text/plain": [
       "<Figure size 432x288 with 1 Axes>"
      ]
     },
     "metadata": {
      "needs_background": "light"
     },
     "output_type": "display_data"
    }
   ],
   "source": [
    "#2.1. Data visualization showed that the approximate survival probability of children and women in the same group was 0 or 1 at the same time\n",
    "Female_Child=pd.DataFrame(Female_Child_Group.groupby('Surname')['Survived'].mean().value_counts())\n",
    "Female_Child.columns=['GroupCount']\n",
    "sns.barplot(x=Female_Child.index, y=Female_Child[\"GroupCount\"]).set_xlabel('GroupOneAverageSurvived')"
   ]
  },
  {
   "cell_type": "code",
   "execution_count": 5438,
   "id": "0a1ece5f",
   "metadata": {},
   "outputs": [
    {
     "data": {
      "text/plain": [
       "Text(0.5, 0, 'GroupTwoAverageSurvived')"
      ]
     },
     "execution_count": 5438,
     "metadata": {},
     "output_type": "execute_result"
    },
    {
     "data": {
      "image/png": "[encoded data removed]",
      "text/plain": [
       "<Figure size 432x288 with 1 Axes>"
      ]
     },
     "metadata": {
      "needs_background": "light"
     },
     "output_type": "display_data"
    }
   ],
   "source": [
    "#2.2. Data visualization showed that the probability of survival of adult males in the same group was also 0 or 1\n",
    "Male_Adult=pd.DataFrame(Male_Adult_Group.groupby('Surname')['Survived'].mean().value_counts())\n",
    "Male_Adult.columns=['GroupCount']\n",
    "#Male_Adult\n",
    "sns.barplot(x=Male_Adult.index, y=Male_Adult[\"GroupCount\"]).set_xlabel('GroupTwoAverageSurvived')"
   ]
  },
  {
   "cell_type": "code",
   "execution_count": 5439,
   "id": "f54474e2",
   "metadata": {},
   "outputs": [
    {
     "name": "stdout",
     "output_type": "stream",
     "text": [
      "{'Khalil', 'van Billiard', 'Asplund', 'Mahon', 'Sage', 'Cacic', 'Goodwin', 'Andersson', 'Peacock', 'Straus', 'Johnston', 'Klasen', 'Buckley'}\n",
      "{'Abelseth', 'Spedden', 'Stengel', 'Kink-Heilmann', 'Dodge', 'Snyder', 'Buckley'}\n"
     ]
    }
   ],
   "source": [
    "#Select the abnormal group in the test set for treatment\n",
    "Female_Child_Group=Female_Child_Group.groupby('Surname')['Survived'].mean()\n",
    "#The group with female and child survival rate of 0 was set as abnormal group 1\n",
    "Dead_List=set(Female_Child_Group[Female_Child_Group.apply(lambda x:x==0)].index)\n",
    "print(Dead_List)\n",
    "Male_Adult_List=Male_Adult_Group.groupby('Surname')['Survived'].mean()\n",
    "#The group with adult male survival rate of 1 was set as abnormal group 2\n",
    "Survived_List=set(Male_Adult_List[Male_Adult_List.apply(lambda x:x==1)].index)\n",
    "print(Survived_List)"
   ]
  },
  {
   "cell_type": "code",
   "execution_count": 5440,
   "id": "3bdc5d85",
   "metadata": {},
   "outputs": [],
   "source": [
    "#Punish and modify the data that meets the abnormal group\n",
    "test=test.loc[test['Survived']]\n",
    "\n",
    "#Treatment group 1\n",
    "test.loc[(test['Surname'].apply(lambda x:x in Survived_List)),'Sex'] = 'female'\n",
    "test.loc[(test['Surname'].apply(lambda x:x in Survived_List)),'Age'] = 5\n",
    "test.loc[(test['Surname'].apply(lambda x:x in Survived_List)),'Title'] = 'Miss'\n",
    "\n",
    "#Treatment group 2\n",
    "test.loc[(test['Surname'].apply(lambda x:x in Dead_List)),'Sex'] = 'male'\n",
    "test.loc[(test['Surname'].apply(lambda x:x in Dead_List)),'Age'] = 60\n",
    "test.loc[(test['Surname'].apply(lambda x:x in Dead_List)),'Title'] = 'Mr'"
   ]
  },
  {
   "cell_type": "code",
   "execution_count": 5441,
   "id": "ec6b46dd",
   "metadata": {},
   "outputs": [
    {
     "name": "stdout",
     "output_type": "stream",
     "text": [
      "Mr     260\n",
      "Mrs    158\n",
      "Name: Name, dtype: int64\n"
     ]
    }
   ],
   "source": [
    "#Mapping Name data to numeric data\n",
    "#re make the python language have all the regular expression functions\n",
    "import re     \n",
    "def get_title(name):\n",
    "    #re.search Scans the entire string and returns the first successful match\n",
    "    title_search=re.search(' ([A-Za-z]+)\\.',name) \n",
    "    if title_search:\n",
    "        #View matches\n",
    "        return title_search.group(1) \n",
    "    return \"\"\n",
    " \n",
    "titles=test['Name'].apply(get_title)\n",
    "print(pd.value_counts(titles))"
   ]
  },
  {
   "cell_type": "code",
   "execution_count": 5442,
   "id": "f3d30c0e",
   "metadata": {},
   "outputs": [
    {
     "name": "stdout",
     "output_type": "stream",
     "text": [
      "5    260\n",
      "3    158\n",
      "Name: Name, dtype: int64\n"
     ]
    }
   ],
   "source": [
    "#Mapping Name data to numeric data\n",
    "title_mapping={'Don':1, 'Sir':1, 'Countess':1, 'Lady':1, \n",
    "               'Master':2,\n",
    "               'Mme':3, 'Mrs':3,\n",
    "               'Mlle':4, 'Miss':4, 'Ms':4,\n",
    "               'Mr':5,\n",
    "               'Capt':8, 'Col':7, 'Major':7,  'Dr':5,  'Rev':6,  'Jonkheer':8}\n",
    "for k,v in title_mapping.items():\n",
    "    titles[titles==k]=v\n",
    " \n",
    "print(pd.value_counts(titles))\n",
    "test['Titles']=titles"
   ]
  },
  {
   "cell_type": "code",
   "execution_count": 5443,
   "id": "39a73848",
   "metadata": {},
   "outputs": [
    {
     "data": {
      "text/plain": [
       "count     418\n",
       "unique      2\n",
       "top         0\n",
       "freq      260\n",
       "Name: Sex, dtype: int64"
      ]
     },
     "execution_count": 5443,
     "metadata": {},
     "output_type": "execute_result"
    }
   ],
   "source": [
    "#Data conversion\n",
    "#Mapping Sex data to numeric data\n",
    "test.loc[test['Sex']=='male','Sex']=0\n",
    "test.loc[test['Sex']=='female','Sex']=1\n",
    "test['Sex'].describe()"
   ]
  },
  {
   "cell_type": "code",
   "execution_count": 5444,
   "id": "2e938e49",
   "metadata": {},
   "outputs": [
    {
     "data": {
      "text/plain": [
       "count     418\n",
       "unique      2\n",
       "top         2\n",
       "freq      260\n",
       "Name: Embarked, dtype: int64"
      ]
     },
     "execution_count": 5444,
     "metadata": {},
     "output_type": "execute_result"
    }
   ],
   "source": [
    "#Data conversion\n",
    "#Mapping Embarked data to numeric data\n",
    "test.loc[test['Embarked']=='S','Embarked']=0\n",
    "test.loc[test['Embarked']=='C','Embarked']=1\n",
    "test.loc[test['Embarked']=='Q','Embarked']=2\n",
    "test['Embarked'].describe()"
   ]
  },
  {
   "cell_type": "code",
   "execution_count": 5445,
   "id": "64bade39",
   "metadata": {},
   "outputs": [
    {
     "name": "stdout",
     "output_type": "stream",
     "text": [
      "0.8024691358024691\n"
     ]
    },
    {
     "name": "stderr",
     "output_type": "stream",
     "text": [
      "d:\\python38\\lib\\site-packages\\sklearn\\linear_model\\_logistic.py:814: ConvergenceWarning: lbfgs failed to converge (status=1):\n",
      "STOP: TOTAL NO. of ITERATIONS REACHED LIMIT.\n",
      "\n",
      "Increase the number of iterations (max_iter) or scale the data as shown in:\n",
      "    https://scikit-learn.org/stable/modules/preprocessing.html\n",
      "Please also refer to the documentation for alternative solver options:\n",
      "    https://scikit-learn.org/stable/modules/linear_model.html#logistic-regression\n",
      "  n_iter_i = _check_optimize_result(\n",
      "d:\\python38\\lib\\site-packages\\sklearn\\linear_model\\_logistic.py:814: ConvergenceWarning: lbfgs failed to converge (status=1):\n",
      "STOP: TOTAL NO. of ITERATIONS REACHED LIMIT.\n",
      "\n",
      "Increase the number of iterations (max_iter) or scale the data as shown in:\n",
      "    https://scikit-learn.org/stable/modules/preprocessing.html\n",
      "Please also refer to the documentation for alternative solver options:\n",
      "    https://scikit-learn.org/stable/modules/linear_model.html#logistic-regression\n",
      "  n_iter_i = _check_optimize_result(\n",
      "d:\\python38\\lib\\site-packages\\sklearn\\linear_model\\_logistic.py:814: ConvergenceWarning: lbfgs failed to converge (status=1):\n",
      "STOP: TOTAL NO. of ITERATIONS REACHED LIMIT.\n",
      "\n",
      "Increase the number of iterations (max_iter) or scale the data as shown in:\n",
      "    https://scikit-learn.org/stable/modules/preprocessing.html\n",
      "Please also refer to the documentation for alternative solver options:\n",
      "    https://scikit-learn.org/stable/modules/linear_model.html#logistic-regression\n",
      "  n_iter_i = _check_optimize_result(\n"
     ]
    }
   ],
   "source": [
    "#Algorithm 2--logistic regression\n",
    "#Select features that have a greater impact on survival probability\n",
    "predictors = [\"Pclass\", \"Sex\", \"Age\", \"SibSp\", \"Parch\", \"Fare\", \"Embarked\"]\n",
    "#Initialize model object and \n",
    "alg=LogisticRegression(random_state=1)\n",
    "#Initialize model object\n",
    "scores = model_selection.cross_val_score(alg, train[predictors], train['Survived'], cv=3)\n",
    "#Take the average of 3 samples\n",
    "print(scores.mean()) "
   ]
  },
  {
   "cell_type": "code",
   "execution_count": 5446,
   "id": "8939b6b7",
   "metadata": {},
   "outputs": [
    {
     "name": "stdout",
     "output_type": "stream",
     "text": [
      "[0.81144781 0.85521886 0.86195286]\n",
      "0.8428731762065095\n"
     ]
    }
   ],
   "source": [
    "#Algorithm 3--Random forest algorithm\n",
    "#Select features that have a greater impact on survival probability\n",
    "#predictors = [\"Pclass\", \"Sex\", \"Age\", \"SibSp\", \"Parch\", \"Fare\", \"Embarked\"]\n",
    "#Replace the predicted value according to the feature importance\n",
    "predictors=['Pclass','Age','Sex','Fare','Titles']\n",
    "#X is a matrix of features\n",
    "X = train[predictors]\n",
    "#y is a column in the data to be predicted\n",
    "y = train[\"Survived\"]\n",
    "#Standardization x matrix\n",
    "X = preprocessing.scale(X)\n",
    "#The data were divided into 3 copies for cross validation\n",
    "kf=model_selection.KFold(n_splits=3, shuffle=True, random_state=1)\n",
    "#Setting parameters: number of decision trees, minimum node and minimum leaf node\n",
    "rf_alg=RandomForestClassifier(n_estimators=80, min_samples_split=6, min_samples_leaf=2)\n",
    "#The data set and parameters are put into the classifier- \n",
    "#-for cross validation to obtain the prediction results\n",
    "rf_alg_scores = model_selection.cross_val_score(rf_alg, X, y, cv=kf)\n",
    "#The results of printing 3 copies of data are averaged\n",
    "print(rf_alg_scores)\n",
    "print(rf_alg_scores.mean())"
   ]
  },
  {
   "cell_type": "code",
   "execution_count": 5447,
   "id": "ff08dac1",
   "metadata": {},
   "outputs": [],
   "source": [
    "#Generate a new dataset\n",
    "#datas=train+test\n",
    "datas = pd.concat([train, test], ignore_index = True)\n",
    "\n",
    "import re     \n",
    "def get_title(name):\n",
    "    title_search=re.search(' ([A-Za-z]+)\\.',name)\n",
    "    if title_search:\n",
    "        return title_search.group(1)\n",
    "    return \"\"\n",
    " \n",
    "titles=datas['Name'].apply(get_title)\n",
    "\n",
    "\n",
    "title_mapping={'Don':1, 'Sir':1, 'Countess':1, 'Lady':1, \n",
    "               'Master':2,\n",
    "               'Mme':3, 'Mrs':3,\n",
    "               'Mlle':4, 'Miss':4, 'Ms':4,\n",
    "               'Mr':5,\n",
    "               'Capt':8, 'Col':7, 'Major':7,  'Dr':5,  'Rev':6,  'Jonkheer':8}\n",
    "for k,v in title_mapping.items():\n",
    "    titles[titles==k]=v\n",
    " \n",
    "\n",
    "datas['Titles']=titles\n",
    "\n",
    "datas.loc[datas['Sex']=='male','Sex']=0\n",
    "datas.loc[datas['Sex']=='female','Sex']=1\n",
    "\n",
    "datas.loc[datas['Embarked']=='S','Embarked']=0\n",
    "datas.loc[datas['Embarked']=='C','Embarked']=1\n",
    "datas.loc[datas['Embarked']=='Q','Embarked']=2"
   ]
  },
  {
   "cell_type": "code",
   "execution_count": 5457,
   "id": "c04c66a4",
   "metadata": {},
   "outputs": [
    {
     "name": "stdout",
     "output_type": "stream",
     "text": [
      "0.5347593582887701\n"
     ]
    }
   ],
   "source": [
    "#Algorithm 1--linear regression\n",
    "#Select features that have a greater impact on survival probability\n",
    "predictors=['Pclass','Age','Sex','Fare','Titles']\n",
    "#Initialize model object\n",
    "alg=LinearRegression()\n",
    "#The data were divided into 3 copies for cross validation\n",
    "##KF is the split data\n",
    "kf = KFold(n_splits=3, shuffle=True, random_state=1)\n",
    "\n",
    "predictions=[]\n",
    "##train and test are the divided index\n",
    "for train, test in kf.split(datas):\n",
    "    #Index the data by line number, and only the selected feature data is taken\n",
    "    train_predictors=(datas[predictors].iloc[train,:])\n",
    "    train_target=datas[\"Survived\"].iloc[train]\n",
    "    #training\n",
    "    alg.fit(train_predictors,train_target)\n",
    "    #testing\n",
    "    test_predictions=alg.predict(datas[predictors].iloc[test,:])\n",
    "    #Save the predicted survival probability of each individual in 3 cross validation\n",
    "    predictions.append(test_predictions)\n",
    "predictions=np.concatenate(predictions,axis=0) \n",
    "#If the probability is greater than 0.5, the individual survives\n",
    "predictions[predictions>0.5]=1\n",
    "#If the probability is less than 0.5, the individual does not survive\n",
    "predictions[predictions<=0.5]=0\n",
    "#Compare with the actual results to calculate the accuracy\n",
    "#Number of predicted and actual situations / number of all samples\n",
    "accuracy=len(predictions[predictions==datas[\"Survived\"]])/(len(predictions))\n",
    "print(accuracy )"
   ]
  },
  {
   "cell_type": "code",
   "execution_count": 5449,
   "id": "8e09afba",
   "metadata": {},
   "outputs": [
    {
     "name": "stdout",
     "output_type": "stream",
     "text": [
      "0.8165137614678899\n"
     ]
    }
   ],
   "source": [
    "#Algorithm4 Algorithm integration\n",
    "algorithms = [\n",
    "    #[GradientBoostingClassifier(random_state=1, n_estimators=25, max_depth=3),['Pclass','Age','Sex','Fare','Titles']],\n",
    "    [RandomForestClassifier(n_estimators=80, min_samples_split=6, min_samples_leaf=2),['Pclass','Age','Sex','Fare','Titles']],\n",
    "    [LogisticRegression(random_state=1), ['Pclass','Age','Sex','Fare','Titles']]]\n",
    "#The data were divided into 3 copies for cross validation KF is the split data\n",
    "kf=model_selection.KFold(n_splits=3, shuffle=True, random_state=1)\n",
    " \n",
    "predictions = []\n",
    "#train and test are the divided index\n",
    "for train, test in kf.split(datas):\n",
    "    #Index the data by line number, and only the selected feature data is taken\n",
    "    train_predictors=(datas[predictors].iloc[train,:])\n",
    "    train_target = datas[\"Survived\"].iloc[train]\n",
    "    full_test_predictions = []\n",
    "    for alg, predictors in algorithms:\n",
    "        alg.fit(train_predictors,train_target)\n",
    "        test_predictions = alg.predict_proba(datas[predictors].iloc[test, :].astype(float))[:, 1]\n",
    "        full_test_predictions.append(test_predictions)\n",
    "    ##The result is the sum of the results of the two algorithms divided by 2\n",
    "    test_predictions = (full_test_predictions[0] + full_test_predictions[1]) / 2\n",
    "    #If the probability is greater than 0.5, the individual survives\n",
    "    test_predictions[test_predictions <= .5] = 0\n",
    "    #If the probability is less than 0.5, the individual does not survive\n",
    "    test_predictions[test_predictions > .5] = 1\n",
    "    predictions.append(test_predictions)\n",
    "predictions = np.concatenate(predictions, axis=0)\n",
    "#Compare with the actual results to calculate the accuracy\n",
    "#accuracy = sum(predictions[predictions == datas[\"Survived\"]]) / len(predictions)\n",
    "accuracy = sum(predictions[predictions == datas[\"Survived\"]]) / len(datas[\"Survived\"].iloc[test])\n",
    "print(accuracy * 2)"
   ]
  },
  {
   "cell_type": "code",
   "execution_count": null,
   "id": "ee5dec14",
   "metadata": {},
   "outputs": [],
   "source": []
  },
  {
   "cell_type": "code",
   "execution_count": null,
   "id": "187f05ab",
   "metadata": {},
   "outputs": [],
   "source": []
  },
  {
   "cell_type": "code",
   "execution_count": null,
   "id": "e82535c9",
   "metadata": {},
   "outputs": [],
   "source": []
  },
  {
   "cell_type": "code",
   "execution_count": null,
   "id": "351a1e7d",
   "metadata": {},
   "outputs": [],
   "source": []
  },
  {
   "cell_type": "code",
   "execution_count": null,
   "id": "e407713d",
   "metadata": {},
   "outputs": [],
   "source": []
  }
 ],
 "metadata": {
  "kernelspec": {
   "display_name": "Python 3 (ipykernel)",
   "language": "python",
   "name": "python3"
  },
  "language_info": {
   "codemirror_mode": {
    "name": "ipython",
    "version": 3
   },
   "file_extension": ".py",
   "mimetype": "text/x-python",
   "name": "python",
   "nbconvert_exporter": "python",
   "pygments_lexer": "ipython3",
   "version": "3.9.12"
  }
 },
 "nbformat": 4,
 "nbformat_minor": 5
}
